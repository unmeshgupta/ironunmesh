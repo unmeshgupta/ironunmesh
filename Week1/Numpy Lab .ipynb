{
 "cells": [
  {
   "cell_type": "markdown",
   "metadata": {},
   "source": [
    "#### 1. Import the numpy package under the name `np` (★☆☆)\n"
   ]
  },
  {
   "cell_type": "code",
   "execution_count": 2,
   "metadata": {},
   "outputs": [],
   "source": [
    "import numpy as np"
   ]
  },
  {
   "cell_type": "markdown",
   "metadata": {},
   "source": [
    "#### 2. Create a null vector of size 10 (★☆☆)\n"
   ]
  },
  {
   "cell_type": "code",
   "execution_count": 3,
   "metadata": {},
   "outputs": [
    {
     "name": "stdout",
     "output_type": "stream",
     "text": [
      "[0. 0. 0. 0. 0. 0. 0. 0. 0. 0.]\n"
     ]
    }
   ],
   "source": [
    "x = np.zeros(10)\n",
    "print(x)"
   ]
  },
  {
   "cell_type": "markdown",
   "metadata": {},
   "source": [
    "#### 3. Create a null vector of size 10 but the fifth value which is 1 (★☆☆)\n"
   ]
  },
  {
   "cell_type": "code",
   "execution_count": 4,
   "metadata": {},
   "outputs": [
    {
     "name": "stdout",
     "output_type": "stream",
     "text": [
      "[0. 0. 0. 0. 0. 1. 0. 0. 0. 0.]\n"
     ]
    }
   ],
   "source": [
    "x[5] = 1\n",
    "print(x)"
   ]
  },
  {
   "cell_type": "markdown",
   "metadata": {},
   "source": [
    "#### 4. Create a vector with values ranging from 10 to 49 (★☆☆)\n"
   ]
  },
  {
   "cell_type": "code",
   "execution_count": 8,
   "metadata": {},
   "outputs": [
    {
     "name": "stdout",
     "output_type": "stream",
     "text": [
      "[10 11 12 13 14 15 16 17 18 19 20 21 22 23 24 25 26 27 28 29 30 31 32 33\n",
      " 34 35 36 37 38 39 40 41 42 43 44 45 46 47 48 49]\n"
     ]
    }
   ],
   "source": [
    "y = np.arange(10, 50)\n",
    "print(y)"
   ]
  },
  {
   "cell_type": "markdown",
   "metadata": {},
   "source": [
    "#### 5. Create a 3x3 matrix with values ranging from 0 to 8 (★☆☆)\n"
   ]
  },
  {
   "cell_type": "code",
   "execution_count": 13,
   "metadata": {},
   "outputs": [
    {
     "name": "stdout",
     "output_type": "stream",
     "text": [
      "[[6 7 7]\n",
      " [0 0 5]\n",
      " [7 0 5]]\n"
     ]
    }
   ],
   "source": [
    "matrix = np.random.randint(0, 8, (3, 3))\n",
    "print(matrix)"
   ]
  },
  {
   "cell_type": "markdown",
   "metadata": {},
   "source": [
    "#### 6. Find indices of non-zero elements from [1,2,0,0,4,0] (★☆☆)\n"
   ]
  },
  {
   "cell_type": "code",
   "execution_count": 15,
   "metadata": {},
   "outputs": [
    {
     "data": {
      "text/plain": [
       "(array([0, 1, 4]),)"
      ]
     },
     "execution_count": 15,
     "metadata": {},
     "output_type": "execute_result"
    }
   ],
   "source": [
    "variable =  [1,2,0,0,4,0]\n",
    "np.nonzero(variable)"
   ]
  },
  {
   "cell_type": "markdown",
   "metadata": {},
   "source": [
    "#### 7. Create a 3x3 identity matrix (★☆☆)\n"
   ]
  },
  {
   "cell_type": "code",
   "execution_count": 16,
   "metadata": {},
   "outputs": [
    {
     "data": {
      "text/plain": [
       "array([[1., 0., 0.],\n",
       "       [0., 1., 0.],\n",
       "       [0., 0., 1.]])"
      ]
     },
     "execution_count": 16,
     "metadata": {},
     "output_type": "execute_result"
    }
   ],
   "source": [
    "identity_matrix =np.identity(3)\n",
    "identity_matrix"
   ]
  },
  {
   "cell_type": "markdown",
   "metadata": {},
   "source": [
    "#### 8. Create a 3x3x3 array with random values (★☆☆)\n"
   ]
  },
  {
   "cell_type": "code",
   "execution_count": 18,
   "metadata": {},
   "outputs": [
    {
     "name": "stdout",
     "output_type": "stream",
     "text": [
      "[[0.56434144 0.352946   0.96307939]\n",
      " [0.02696599 0.5601554  0.58464768]\n",
      " [0.69726143 0.49918342 0.43369184]]\n"
     ]
    }
   ],
   "source": [
    "rows = 3\n",
    "cols = 3\n",
    "random_matrix = np.random.random((rows, cols))\n",
    "print(random_matrix)"
   ]
  },
  {
   "cell_type": "markdown",
   "metadata": {},
   "source": [
    "#### 9. Create a 10x10 array with random values and find the minimum and maximum values (★☆☆)\n"
   ]
  },
  {
   "cell_type": "code",
   "execution_count": 22,
   "metadata": {},
   "outputs": [
    {
     "name": "stdout",
     "output_type": "stream",
     "text": [
      "[[0.59662456 0.97432986 0.21372959 0.1774096  0.25214311 0.21376081\n",
      "  0.48201302 0.31533392 0.20961032 0.55729976]\n",
      " [0.44010351 0.60650752 0.11199675 0.40968425 0.42890726 0.31149579\n",
      "  0.0230668  0.50384327 0.37730501 0.09061856]\n",
      " [0.69322596 0.16048491 0.10810901 0.70063007 0.42267114 0.74058284\n",
      "  0.49551451 0.76230879 0.39622618 0.24032259]\n",
      " [0.71261405 0.84972365 0.96269486 0.68693361 0.77483805 0.25595198\n",
      "  0.67612629 0.64133076 0.91793853 0.64723478]\n",
      " [0.69044585 0.38415523 0.69117508 0.41648212 0.5016253  0.88929623\n",
      "  0.64672178 0.6805067  0.94628529 0.3219906 ]\n",
      " [0.41306186 0.25775614 0.40727708 0.38003979 0.00493714 0.5837412\n",
      "  0.36923804 0.75841004 0.16331466 0.63759389]\n",
      " [0.04948576 0.65769623 0.31355519 0.70380544 0.88417486 0.64723397\n",
      "  0.51042073 0.58751376 0.48731861 0.34464867]\n",
      " [0.78465069 0.7319285  0.58978516 0.17879325 0.9287599  0.61531468\n",
      "  0.31098654 0.7744689  0.50361975 0.29750722]\n",
      " [0.11299502 0.67830827 0.83584172 0.12332253 0.29170737 0.34349379\n",
      "  0.02031235 0.40364248 0.35235566 0.51167136]\n",
      " [0.37857851 0.5514799  0.90074123 0.75034039 0.46935331 0.88892192\n",
      "  0.23776985 0.79263131 0.88335268 0.78507652]]\n",
      "Min and max values are, 0.0049371362303327615 and 0.9743298596343765\n"
     ]
    }
   ],
   "source": [
    "new_random_matrix = np.random.random((10, 10))\n",
    "print(new_random_matrix)\n",
    "\n",
    "print(f\"Min and max values are, {np.min(new_random_matrix)} and {np.max(new_random_matrix)}\")"
   ]
  },
  {
   "cell_type": "markdown",
   "metadata": {},
   "source": [
    "#### 10. Create a random vector of size 30 and find the mean value (★☆☆)\n"
   ]
  },
  {
   "cell_type": "code",
   "execution_count": 23,
   "metadata": {},
   "outputs": [
    {
     "name": "stdout",
     "output_type": "stream",
     "text": [
      "[[0.86360805 0.5677281  0.90736221]\n",
      " [0.52747296 0.34251189 0.77225926]\n",
      " [0.84107946 0.39543266 0.83272734]\n",
      " [0.64580329 0.88579708 0.85860627]\n",
      " [0.58504538 0.23676978 0.05901894]\n",
      " [0.32195952 0.05393224 0.17611446]\n",
      " [0.27282697 0.72332098 0.33484908]\n",
      " [0.401049   0.57519053 0.40876435]\n",
      " [0.3676818  0.46551794 0.09633929]\n",
      " [0.41284264 0.38896081 0.95641342]]\n"
     ]
    }
   ],
   "source": [
    "desired_size = np.random.random((10, 3))\n",
    "print(desired_size)"
   ]
  },
  {
   "cell_type": "markdown",
   "metadata": {},
   "source": [
    "#### 11. Create a 5x5 matrix with values 1,2,3,4 just below the diagonal (★☆☆)\n"
   ]
  },
  {
   "cell_type": "code",
   "execution_count": 24,
   "metadata": {},
   "outputs": [
    {
     "name": "stdout",
     "output_type": "stream",
     "text": [
      "[[0 0 0 0 0]\n",
      " [1 0 0 0 0]\n",
      " [0 2 0 0 0]\n",
      " [0 0 3 0 0]\n",
      " [0 0 0 4 0]]\n"
     ]
    }
   ],
   "source": [
    "mat = np.diag(1+np.arange(0,4), k = -1)\n",
    "print(mat)"
   ]
  },
  {
   "cell_type": "markdown",
   "metadata": {},
   "source": [
    "#### 12. Normalize a 5x5 random matrix (★☆☆)\n"
   ]
  },
  {
   "cell_type": "code",
   "execution_count": 26,
   "metadata": {},
   "outputs": [
    {
     "name": "stdout",
     "output_type": "stream",
     "text": [
      "[[0.56633831 0.49629206 0.77642562 0.66004709 1.        ]\n",
      " [0.20681957 0.64635592 0.51751319 0.3681841  0.15825546]\n",
      " [0.90562437 0.10126018 0.17128058 0.31661871 0.90530901]\n",
      " [0.58511969 0.35756542 0.70770259 0.         0.97751642]\n",
      " [0.77073914 0.46161104 0.83813669 0.32396993 0.68330413]]\n"
     ]
    }
   ],
   "source": [
    "normalize = np.random.random((5,5))\n",
    "normalize_max, normalize_min = normalize.max(), normalize.min()\n",
    "normalize= (normalize-normalize_min)/(normalize_max-normalize_min)\n",
    "print(normalize)"
   ]
  },
  {
   "cell_type": "markdown",
   "metadata": {},
   "source": [
    "#### 13. How to find common values between two arrays? (★☆☆)\n"
   ]
  },
  {
   "cell_type": "code",
   "execution_count": 28,
   "metadata": {},
   "outputs": [
    {
     "name": "stdout",
     "output_type": "stream",
     "text": [
      "[1 3 4]\n"
     ]
    }
   ],
   "source": [
    "array_1 = np.array([0, 1, 2, 3, 4])\n",
    "array_2 = [1, 3, 4]\n",
    "  \n",
    "# Common values between two arrays\n",
    "print(np.intersect1d(array_1, array_2))"
   ]
  },
  {
   "cell_type": "markdown",
   "metadata": {},
   "source": [
    "#### 14. Create a random vector of size 10 and sort it (★★☆)\n"
   ]
  },
  {
   "cell_type": "code",
   "execution_count": 37,
   "metadata": {},
   "outputs": [
    {
     "name": "stdout",
     "output_type": "stream",
     "text": [
      "[0.10624176 0.27526615 0.41448688 0.43400357 0.43445772 0.64824033\n",
      " 0.75744388 0.8433779  0.88665009 0.92963382]\n"
     ]
    }
   ],
   "source": [
    "vect_sorted = np.random.random((10))\n",
    "print(np.sort(vect_sorted))"
   ]
  },
  {
   "cell_type": "markdown",
   "metadata": {},
   "source": [
    "#### 15. Create random vector of size 10 and replace the maximum value by 0 (★★☆)\n"
   ]
  },
  {
   "cell_type": "code",
   "execution_count": 36,
   "metadata": {},
   "outputs": [
    {
     "name": "stdout",
     "output_type": "stream",
     "text": [
      "[0.570012   0.17695277 0.3447341  0.48249663 0.54017217 0.78303859\n",
      " 0.1609186  0.         0.77474435 0.23516306]\n"
     ]
    }
   ],
   "source": [
    "ar= np.random.random((10))\n",
    "index_max = np.argmax(ar)\n",
    "index_max\n",
    "\n",
    "ar[index_max] = 0\n",
    "print(ar)"
   ]
  },
  {
   "cell_type": "markdown",
   "metadata": {},
   "source": [
    "#### 16. Subtract the mean of each row of a matrix (★★☆)\n"
   ]
  },
  {
   "cell_type": "code",
   "execution_count": 38,
   "metadata": {},
   "outputs": [
    {
     "name": "stdout",
     "output_type": "stream",
     "text": [
      "[[0.53335591 0.07290211 0.57051694 0.37496856 0.33155334 0.6198349\n",
      "  0.99730553 0.05934559 0.45492733 0.3929262 ]\n",
      " [0.72655961 0.28702603 0.66728976 0.71974508 0.17852973 0.30056482\n",
      "  0.06632547 0.50785497 0.72033324 0.64852603]\n",
      " [0.17010963 0.28765714 0.43885596 0.85390629 0.56043594 0.80675892\n",
      "  0.44515731 0.69536218 0.72646816 0.3497258 ]\n",
      " [0.33813049 0.43624915 0.53675087 0.08866718 0.21705839 0.96533617\n",
      "  0.820093   0.22361932 0.53475827 0.82412397]\n",
      " [0.3869954  0.25754022 0.87458885 0.87256205 0.04559777 0.70023585\n",
      "  0.52370741 0.4402074  0.83587679 0.34938512]]\n",
      "Subtract the mean of each row of the said matrix:\n",
      "\n",
      "[[ 0.09259227 -0.36786153  0.1297533  -0.06579508 -0.1092103   0.17907126\n",
      "   0.55654189 -0.38141805  0.01416369 -0.04783744]\n",
      " [ 0.24428414 -0.19524944  0.18501429  0.23746961 -0.30374574 -0.18171066\n",
      "  -0.41595     0.02557949  0.23805776  0.16625055]\n",
      " [-0.3633341  -0.24578659 -0.09458777  0.32046256  0.02699221  0.27331519\n",
      "  -0.08828643  0.16191845  0.19302442 -0.18371794]\n",
      " [-0.16034819 -0.06222953  0.03827218 -0.4098115  -0.28142029  0.46685749\n",
      "   0.32161432 -0.27485936  0.03627959  0.32564529]\n",
      " [-0.14167428 -0.27112947  0.34591916  0.34389236 -0.48307192  0.17156617\n",
      "  -0.00496228 -0.08846229  0.30720711 -0.17928457]]\n"
     ]
    }
   ],
   "source": [
    "tab = np.random.rand(5, 10)\n",
    "print(tab)\n",
    "print(\"Subtract the mean of each row of the said matrix:\\n\")\n",
    "tab = tab - tab.mean(axis=1, keepdims=True)\n",
    "print(tab)"
   ]
  },
  {
   "cell_type": "markdown",
   "metadata": {},
   "source": [
    "#### 17. How to get the n largest values of an array (★★★)\n"
   ]
  },
  {
   "cell_type": "code",
   "execution_count": 40,
   "metadata": {},
   "outputs": [
    {
     "name": "stdout",
     "output_type": "stream",
     "text": [
      "Sorted array is: [0.12077339 0.1734802  0.28371118 0.69500946 0.78072533 0.83035291\n",
      " 0.8382924  0.85044939 0.8950704  0.91396759]\n"
     ]
    }
   ],
   "source": [
    "to_sort_array =  np.random.rand(10)\n",
    "\n",
    "sorted_index_array = np.argsort(to_sort_array)\n",
    "  \n",
    "# sorted array\n",
    "sorted_array = to_sort_array[sorted_index_array]\n",
    "  \n",
    "print(\"Sorted array is:\", sorted_array)\n",
    "print(\"\")"
   ]
  },
  {
   "cell_type": "code",
   "execution_count": 43,
   "metadata": {},
   "outputs": [
    {
     "name": "stdout",
     "output_type": "stream",
     "text": [
      "Original array:\n",
      "[0 1 2 3 4 5 6 7 8 9]\n",
      "[9]\n"
     ]
    }
   ],
   "source": [
    "n_array = np.arange(10)\n",
    "print(\"Original array:\")\n",
    "print(n_array)\n",
    "np.random.shuffle(n_array)\n",
    "n = 1\n",
    "print(n_array[np.argsort(n_array)[-n:]])"
   ]
  },
  {
   "cell_type": "markdown",
   "metadata": {},
   "source": [
    "#### 18. Create a random 5*3 matrix and replace items that are larger than 4 by their squares ( Example:  6 --> 36) \n"
   ]
  },
  {
   "cell_type": "code",
   "execution_count": 45,
   "metadata": {},
   "outputs": [
    {
     "name": "stdout",
     "output_type": "stream",
     "text": [
      "[[5.44965945e-01 7.11095611e-01 4.01089609e-01]\n",
      " [8.04315039e-01 3.12152143e-01 4.79487991e-01]\n",
      " [2.60553205e-01 3.31835256e-01 2.71847245e-04]\n",
      " [7.72388959e-01 3.53912147e-01 4.30328391e-01]\n",
      " [4.72147649e-01 8.97846714e-01 4.80436844e-01]]\n"
     ]
    }
   ],
   "source": [
    "nums = np.random.rand(5,3)\n",
    "\n",
    "print(np.where(nums > 4, nums**2, nums))"
   ]
  },
  {
   "cell_type": "code",
   "execution_count": null,
   "metadata": {},
   "outputs": [],
   "source": []
  }
 ],
 "metadata": {
  "kernelspec": {
   "display_name": "Python 3",
   "language": "python",
   "name": "python3"
  },
  "language_info": {
   "codemirror_mode": {
    "name": "ipython",
    "version": 3
   },
   "file_extension": ".py",
   "mimetype": "text/x-python",
   "name": "python",
   "nbconvert_exporter": "python",
   "pygments_lexer": "ipython3",
   "version": "3.8.3"
  }
 },
 "nbformat": 4,
 "nbformat_minor": 4
}
